{
  "nbformat": 4,
  "nbformat_minor": 0,
  "metadata": {
    "colab": {
      "provenance": []
    },
    "kernelspec": {
      "name": "python3",
      "display_name": "Python 3"
    },
    "language_info": {
      "name": "python"
    }
  },
  "cells": [
    {
      "cell_type": "markdown",
      "source": [
        "Tasks performed\n",
        "1. Fill mask\n",
        "2. Summarization\n",
        "3. Question & Answering\n",
        "4. Table Question & Answering\n",
        "5. Sentence similarity\n",
        "6. Text classification\n",
        "7. Text generation\n",
        "8. Token classification\n",
        "9. Translation\n",
        "10. Zero shot classification\n",
        "11. Conversational task"
      ],
      "metadata": {
        "id": "2DRI5M_TzKPt"
      }
    },
    {
      "cell_type": "code",
      "execution_count": 22,
      "metadata": {
        "id": "82OYLStZnARd"
      },
      "outputs": [],
      "source": [
        "from google.colab import userdata\n",
        "HUGGINGFACE_TOKEN = userdata.get('HUGGINGFACE_TOKEN')"
      ]
    },
    {
      "cell_type": "markdown",
      "source": [
        "Fill Mask"
      ],
      "metadata": {
        "id": "jmfK0SvjnqQy"
      }
    },
    {
      "cell_type": "code",
      "source": [
        "import requests\n",
        "headers = {\"Authorization\": f\"Bearer {HUGGINGFACE_TOKEN}\"}\n",
        "API_URL = \"https://api-inference.huggingface.co/models/bert-base-uncased\"\n",
        "def query(payload):\n",
        "    response = requests.post(API_URL, headers=headers, json=payload)\n",
        "    return response.json()\n",
        "data = query({\"inputs\": \"The answer to the love is [MASK].\"})"
      ],
      "metadata": {
        "id": "r2Ijeo5wnVAj"
      },
      "execution_count": 23,
      "outputs": []
    },
    {
      "cell_type": "code",
      "source": [
        "data"
      ],
      "metadata": {
        "colab": {
          "base_uri": "https://localhost:8080/"
        },
        "id": "vvZ4pUjVoCU6",
        "outputId": "46f6c233-34d5-469b-de55-420af25b91c4"
      },
      "execution_count": 24,
      "outputs": [
        {
          "output_type": "execute_result",
          "data": {
            "text/plain": [
              "[{'score': 0.19322386384010315,\n",
              "  'token': 2053,\n",
              "  'token_str': 'no',\n",
              "  'sequence': 'the answer to the love is no.'},\n",
              " {'score': 0.1322283297777176,\n",
              "  'token': 2748,\n",
              "  'token_str': 'yes',\n",
              "  'sequence': 'the answer to the love is yes.'},\n",
              " {'score': 0.02959509752690792,\n",
              "  'token': 3722,\n",
              "  'token_str': 'simple',\n",
              "  'sequence': 'the answer to the love is simple.'},\n",
              " {'score': 0.027348054572939873,\n",
              "  'token': 4242,\n",
              "  'token_str': 'unknown',\n",
              "  'sequence': 'the answer to the love is unknown.'},\n",
              " {'score': 0.02521538734436035,\n",
              "  'token': 2293,\n",
              "  'token_str': 'love',\n",
              "  'sequence': 'the answer to the love is love.'}]"
            ]
          },
          "metadata": {},
          "execution_count": 24
        }
      ]
    },
    {
      "cell_type": "code",
      "source": [
        "data2 = query({\"inputs\": \"My wife works as a [MASK].\"})\n",
        "print(data2)"
      ],
      "metadata": {
        "colab": {
          "base_uri": "https://localhost:8080/"
        },
        "id": "0I4_98evoEM0",
        "outputId": "3cda7477-3f4c-4ed0-f79e-40f0ae6937f2"
      },
      "execution_count": 25,
      "outputs": [
        {
          "output_type": "stream",
          "name": "stdout",
          "text": [
            "[{'score': 0.19794359803199768, 'token': 6821, 'token_str': 'nurse', 'sequence': 'my wife works as a nurse.'}, {'score': 0.14267271757125854, 'token': 13877, 'token_str': 'waitress', 'sequence': 'my wife works as a waitress.'}, {'score': 0.07672365754842758, 'token': 3836, 'token_str': 'teacher', 'sequence': 'my wife works as a teacher.'}, {'score': 0.03913089260458946, 'token': 5660, 'token_str': 'cook', 'sequence': 'my wife works as a cook.'}, {'score': 0.036866869777441025, 'token': 5160, 'token_str': 'lawyer', 'sequence': 'my wife works as a lawyer.'}]\n"
          ]
        }
      ]
    },
    {
      "cell_type": "markdown",
      "source": [
        "Summarization"
      ],
      "metadata": {
        "id": "RJgv_NpqpPo5"
      }
    },
    {
      "cell_type": "code",
      "source": [
        "import requests\n",
        "headers = {\"Authorization\": f\"Bearer {HUGGINGFACE_TOKEN}\"}\n",
        "API_URL = \"https://api-inference.huggingface.co/models/facebook/bart-large-cnn\"\n",
        "def query(payload):\n",
        "    response = requests.post(API_URL, headers=headers, json=payload)\n",
        "    return response.json()\n",
        "data = query(\n",
        "    {\n",
        "        \"inputs\": \"The tower is 324 metres (1,063 ft) tall, about the same height as an 81-storey building, and the tallest structure in Paris. Its base is square, measuring 125 metres (410 ft) on each side. During its construction, the Eiffel Tower surpassed the Washington Monument to become the tallest man-made structure in the world, a title it held for 41 years until the Chrysler Building in New York City was finished in 1930. It was the first structure to reach a height of 300 metres. Due to the addition of a broadcasting aerial at the top of the tower in 1957, it is now taller than the Chrysler Building by 5.2 metres (17 ft). Excluding transmitters, the Eiffel Tower is the second tallest free-standing structure in France after the Millau Viaduct.\",\n",
        "        \"parameters\": {\"do_sample\": False},\n",
        "    }\n",
        ")"
      ],
      "metadata": {
        "id": "VHwHJkgXoa0I"
      },
      "execution_count": 26,
      "outputs": []
    },
    {
      "cell_type": "code",
      "source": [
        "print(data)"
      ],
      "metadata": {
        "colab": {
          "base_uri": "https://localhost:8080/"
        },
        "id": "FZKvaOnspn-q",
        "outputId": "665ffad6-4a4b-43c3-80d5-57c614d45103"
      },
      "execution_count": 27,
      "outputs": [
        {
          "output_type": "stream",
          "name": "stdout",
          "text": [
            "[{'summary_text': 'The tower is 324 metres (1,063 ft) tall, about the same height as an 81-storey building. Its base is square, measuring 125 metres (410 ft) on each side. During its construction, the Eiffel Tower surpassed the Washington Monument to become the tallest man-made structure in the world.'}]\n"
          ]
        }
      ]
    },
    {
      "cell_type": "markdown",
      "source": [
        "Question&Answering"
      ],
      "metadata": {
        "id": "jbcPvf8ZqPm0"
      }
    },
    {
      "cell_type": "code",
      "source": [
        "import requests\n",
        "headers = {\"Authorization\": f\"Bearer {HUGGINGFACE_TOKEN}\"}\n",
        "API_URL = \"https://api-inference.huggingface.co/models/deepset/roberta-base-squad2\"\n",
        "def query(payload):\n",
        "    response = requests.post(API_URL, headers=headers, json=payload)\n",
        "    return response.json()\n",
        "data = query(\n",
        "    {\n",
        "        \"inputs\": {\n",
        "            \"question\": \"Where i am working?\",\n",
        "            \"context\": \"My name is Raja and I live in Chennai. I am working in Datanetiix\",\n",
        "        }\n",
        "    }\n",
        ")"
      ],
      "metadata": {
        "id": "QLwN4cd6pt_C"
      },
      "execution_count": 28,
      "outputs": []
    },
    {
      "cell_type": "code",
      "source": [
        "print(data)"
      ],
      "metadata": {
        "colab": {
          "base_uri": "https://localhost:8080/"
        },
        "id": "MiRSY26jqe48",
        "outputId": "6edb2282-ad66-4347-c1ae-38f3e8287bf3"
      },
      "execution_count": 29,
      "outputs": [
        {
          "output_type": "stream",
          "name": "stdout",
          "text": [
            "{'score': 0.8776182532310486, 'start': 55, 'end': 65, 'answer': 'Datanetiix'}\n"
          ]
        }
      ]
    },
    {
      "cell_type": "markdown",
      "source": [
        "Table question answering task"
      ],
      "metadata": {
        "id": "fTMZqTYVq0vV"
      }
    },
    {
      "cell_type": "code",
      "source": [
        "import requests\n",
        "headers = {\"Authorization\": f\"Bearer {HUGGINGFACE_TOKEN}\"}\n",
        "API_URL = \"https://api-inference.huggingface.co/models/google/tapas-base-finetuned-wtq\"\n",
        "def query(payload):\n",
        "    response = requests.post(API_URL, headers=headers, json=payload)\n",
        "    return response.json()\n",
        "data = query(\n",
        "    {\n",
        "        \"inputs\": {\n",
        "            \"query\": \"How many Contributors does the transformers repository have?\",\n",
        "            \"table\": {\n",
        "                \"Repository\": [\"Transformers\", \"Datasets\", \"Tokenizers\"],\n",
        "                \"Stars\": [\"36542\", \"4512\", \"3934\"],\n",
        "                \"Contributors\": [\"651\", \"77\", \"34\"],\n",
        "                \"Programming language\": [\n",
        "                    \"Python\",\n",
        "                    \"Python\",\n",
        "                    \"Rust, Python and NodeJS\",\n",
        "                ],\n",
        "            },\n",
        "        }\n",
        "    }\n",
        ")"
      ],
      "metadata": {
        "id": "8iK1Qfl0qhM6"
      },
      "execution_count": 30,
      "outputs": []
    },
    {
      "cell_type": "code",
      "source": [
        "print(data)"
      ],
      "metadata": {
        "colab": {
          "base_uri": "https://localhost:8080/"
        },
        "id": "LUvMyauDrSLa",
        "outputId": "cb5c3748-a08f-49cf-a962-de7df97b98e9"
      },
      "execution_count": 31,
      "outputs": [
        {
          "output_type": "stream",
          "name": "stdout",
          "text": [
            "{'answer': 'AVERAGE > 651', 'coordinates': [[0, 2]], 'cells': ['651'], 'aggregator': 'AVERAGE'}\n"
          ]
        }
      ]
    },
    {
      "cell_type": "markdown",
      "source": [
        "Sentence similarity task"
      ],
      "metadata": {
        "id": "Yo4S0zqzrrFM"
      }
    },
    {
      "cell_type": "code",
      "source": [
        "import requests\n",
        "headers = {\"Authorization\": f\"Bearer {HUGGINGFACE_TOKEN}\"}\n",
        "API_URL = \"https://api-inference.huggingface.co/models/sentence-transformers/all-MiniLM-L6-v2\"\n",
        "def query(payload):\n",
        "    response = requests.post(API_URL, headers=headers, json=payload)\n",
        "    return response.json()\n",
        "data = query(\n",
        "    {\n",
        "        \"inputs\": {\n",
        "            \"source_sentence\": \"That is a happy person\",\n",
        "            \"sentences\": [\"That is a happy dog\", \"That is a very happy person\", \"Today is a sunny day\", \"That is a happy person\"],\n",
        "        }\n",
        "    }\n",
        ")"
      ],
      "metadata": {
        "id": "WSFk32djrTou"
      },
      "execution_count": 62,
      "outputs": []
    },
    {
      "cell_type": "code",
      "source": [
        "print(data)"
      ],
      "metadata": {
        "colab": {
          "base_uri": "https://localhost:8080/"
        },
        "id": "LrzS1fOar2z9",
        "outputId": "af7cb762-2933-4052-affd-54af7bfc227e"
      },
      "execution_count": 63,
      "outputs": [
        {
          "output_type": "stream",
          "name": "stdout",
          "text": [
            "[0.6945773959159851, 0.9429152011871338, 0.2568760812282562, 1.0]\n"
          ]
        }
      ]
    },
    {
      "cell_type": "markdown",
      "source": [
        "Text classification task"
      ],
      "metadata": {
        "id": "c0kAvsYYsOO9"
      }
    },
    {
      "cell_type": "code",
      "source": [
        "import requests\n",
        "headers = {\"Authorization\": f\"Bearer {HUGGINGFACE_TOKEN}\"}\n",
        "API_URL = \"https://api-inference.huggingface.co/models/distilbert-base-uncased-finetuned-sst-2-english\"\n",
        "def query(payload):\n",
        "    response = requests.post(API_URL, headers=headers, json=payload)\n",
        "    return response.json()\n",
        "data9 = query({\"inputs\": \"I like you. He fought with me\",})"
      ],
      "metadata": {
        "id": "ZWQNhFvwr9KN"
      },
      "execution_count": 73,
      "outputs": []
    },
    {
      "cell_type": "code",
      "source": [
        "print(data9)"
      ],
      "metadata": {
        "colab": {
          "base_uri": "https://localhost:8080/"
        },
        "id": "vbxuuslBsdVv",
        "outputId": "defba6f1-2180-4125-bef1-c5fdb95cccba"
      },
      "execution_count": 74,
      "outputs": [
        {
          "output_type": "stream",
          "name": "stdout",
          "text": [
            "[[{'label': 'POSITIVE', 'score': 0.9997186064720154}, {'label': 'NEGATIVE', 'score': 0.00028139082132838666}]]\n"
          ]
        }
      ]
    },
    {
      "cell_type": "markdown",
      "source": [
        "Text generation task"
      ],
      "metadata": {
        "id": "5ddixOchsx8K"
      }
    },
    {
      "cell_type": "code",
      "source": [
        "import requests\n",
        "headers = {\"Authorization\": f\"Bearer {HUGGINGFACE_TOKEN}\"}\n",
        "API_URL = \"https://api-inference.huggingface.co/models/gpt2\"\n",
        "def query(payload):\n",
        "    response = requests.post(API_URL, headers=headers, json=payload)\n",
        "    return response.json()\n",
        "data = query({\"inputs\": \"The answer to the love is\"})"
      ],
      "metadata": {
        "id": "65N0NEFlshg5"
      },
      "execution_count": 36,
      "outputs": []
    },
    {
      "cell_type": "code",
      "source": [
        "print(data)"
      ],
      "metadata": {
        "colab": {
          "base_uri": "https://localhost:8080/"
        },
        "id": "VQQifVD2s96U",
        "outputId": "691fa9c2-89c2-4e62-afca-3c382afb54b7"
      },
      "execution_count": 37,
      "outputs": [
        {
          "output_type": "stream",
          "name": "stdout",
          "text": [
            "[{'generated_text': 'The answer to the love is different from the answer to the love of sex.\"\\n\\nThis article was published in The London Eye.'}]\n"
          ]
        }
      ]
    },
    {
      "cell_type": "markdown",
      "source": [
        "Token classification task"
      ],
      "metadata": {
        "id": "UrVeTKypvQzQ"
      }
    },
    {
      "cell_type": "code",
      "source": [
        "import requests\n",
        "headers = {\"Authorization\": f\"Bearer {HUGGINGFACE_TOKEN}\"}\n",
        "API_URL = \"https://api-inference.huggingface.co/models/dslim/bert-base-NER\"\n",
        "def query(payload):\n",
        "    response = requests.post(API_URL, headers=headers, json=payload)\n",
        "    return response.json()\n",
        "data = query({\"inputs\": \"My name is Renga Rajan K but you can call me Raja\"})"
      ],
      "metadata": {
        "id": "5WlSDOZEu-iP"
      },
      "execution_count": 41,
      "outputs": []
    },
    {
      "cell_type": "code",
      "source": [
        "print(data)"
      ],
      "metadata": {
        "colab": {
          "base_uri": "https://localhost:8080/"
        },
        "id": "RzBFiuupvbwE",
        "outputId": "324ae00c-b169-462c-93f5-bcbb21793bff"
      },
      "execution_count": 42,
      "outputs": [
        {
          "output_type": "stream",
          "name": "stdout",
          "text": [
            "[{'entity_group': 'PER', 'score': 0.7626664042472839, 'word': 'Renga Rajan K', 'start': 11, 'end': 24}, {'entity_group': 'PER', 'score': 0.8916704058647156, 'word': 'Raja', 'start': 45, 'end': 49}]\n"
          ]
        }
      ]
    },
    {
      "cell_type": "markdown",
      "source": [
        "Translation"
      ],
      "metadata": {
        "id": "UvlzT1RAwEAZ"
      }
    },
    {
      "cell_type": "code",
      "source": [
        "import requests\n",
        "headers = {\"Authorization\": f\"Bearer {HUGGINGFACE_TOKEN}\"}\n",
        "API_URL = \"https://api-inference.huggingface.co/models/Helsinki-NLP/opus-mt-ru-en\"\n",
        "def query(payload):\n",
        "    response = requests.post(API_URL, headers=headers, json=payload)\n",
        "    return response.json()\n",
        "data = query(\n",
        "    {\n",
        "        \"inputs\": \"Меня зовут Вольфганг и я живу в Берлине\",\n",
        "    }\n",
        ")"
      ],
      "metadata": {
        "id": "V5RgYirAvfqR"
      },
      "execution_count": 48,
      "outputs": []
    },
    {
      "cell_type": "code",
      "source": [
        "print(data)"
      ],
      "metadata": {
        "colab": {
          "base_uri": "https://localhost:8080/"
        },
        "id": "wxfCQBObwIEw",
        "outputId": "a022cfae-4a44-4f3f-8a35-6bb534e978c7"
      },
      "execution_count": 49,
      "outputs": [
        {
          "output_type": "stream",
          "name": "stdout",
          "text": [
            "[{'translation_text': 'My name is Wolfgang and I live in Berlin.'}]\n"
          ]
        }
      ]
    },
    {
      "cell_type": "markdown",
      "source": [
        "Zero-Shot Classification task"
      ],
      "metadata": {
        "id": "ccBnsxZpwy2U"
      }
    },
    {
      "cell_type": "code",
      "source": [
        "import requests\n",
        "headers = {\"Authorization\": f\"Bearer {HUGGINGFACE_TOKEN}\"}\n",
        "API_URL = \"https://api-inference.huggingface.co/models/facebook/bart-large-mnli\"\n",
        "def query(payload):\n",
        "    response = requests.post(API_URL, headers=headers, json=payload)\n",
        "    return response.json()\n",
        "data = query(\n",
        "    {\n",
        "        \"inputs\": \"Hi, I recently bought a device from your company but it is not working as advertised and I would like to get reimbursed!\",\n",
        "        \"parameters\": {\"candidate_labels\": [\"refund\", \"legal\", \"faq\"]},\n",
        "    }\n",
        ")"
      ],
      "metadata": {
        "id": "nzuTM7k8wOvY"
      },
      "execution_count": 50,
      "outputs": []
    },
    {
      "cell_type": "code",
      "source": [
        "print(data)"
      ],
      "metadata": {
        "colab": {
          "base_uri": "https://localhost:8080/"
        },
        "id": "bETpTd4GxIVW",
        "outputId": "3e401170-d266-4f98-a0b7-738db29b6719"
      },
      "execution_count": 51,
      "outputs": [
        {
          "output_type": "stream",
          "name": "stdout",
          "text": [
            "{'sequence': 'Hi, I recently bought a device from your company but it is not working as advertised and I would like to get reimbursed!', 'labels': ['refund', 'faq', 'legal'], 'scores': [0.8777878284454346, 0.10522636026144028, 0.01698581501841545]}\n"
          ]
        }
      ]
    },
    {
      "cell_type": "code",
      "source": [
        "data = query(\n",
        "    {\n",
        "        \"inputs\": \"I want to learn any one of the programming language\",\n",
        "        \"parameters\": {\"candidate_labels\": [\"Java\", \"supply\", \"chain\"]},\n",
        "    }\n",
        ")"
      ],
      "metadata": {
        "id": "ZGqXBRwXxPYe"
      },
      "execution_count": 52,
      "outputs": []
    },
    {
      "cell_type": "code",
      "source": [
        "print(data)"
      ],
      "metadata": {
        "colab": {
          "base_uri": "https://localhost:8080/"
        },
        "id": "ZJu-JnDexlyA",
        "outputId": "37f8fb9c-3b44-41be-c757-169f56134ee8"
      },
      "execution_count": 53,
      "outputs": [
        {
          "output_type": "stream",
          "name": "stdout",
          "text": [
            "{'sequence': 'I want to learn any one of the programming language', 'labels': ['supply', 'Java', 'chain'], 'scores': [0.43329790234565735, 0.28433096408843994, 0.28237107396125793]}\n"
          ]
        }
      ]
    },
    {
      "cell_type": "markdown",
      "source": [
        "Conversational task"
      ],
      "metadata": {
        "id": "XZ8fUcKFyIy-"
      }
    },
    {
      "cell_type": "code",
      "source": [
        "import requests\n",
        "headers = {\"Authorization\": f\"Bearer {HUGGINGFACE_TOKEN}\"}\n",
        "API_URL = \"https://api-inference.huggingface.co/models/microsoft/DialoGPT-large\"\n",
        "def query(payload):\n",
        "    response = requests.post(API_URL, headers=headers, json=payload)\n",
        "    return response.json()\n",
        "data_ = query(\n",
        "    {\n",
        "        \"inputs\": {\n",
        "            \"past_user_inputs\": [\"Which movie is the best ?\"],\n",
        "            \"generated_responses\": [\"It's Die Hard for sure.\"],\n",
        "            \"text\": \"Can you explain why ?\",\n",
        "        },\n",
        "    }\n",
        ")"
      ],
      "metadata": {
        "id": "c0ieygaLxpHB"
      },
      "execution_count": 60,
      "outputs": []
    },
    {
      "cell_type": "code",
      "source": [
        "print(data_)"
      ],
      "metadata": {
        "colab": {
          "base_uri": "https://localhost:8080/"
        },
        "id": "UgsHdWe-yP3L",
        "outputId": "a468f4f9-3b1d-4acc-d3ce-872636eca22b"
      },
      "execution_count": 61,
      "outputs": [
        {
          "output_type": "stream",
          "name": "stdout",
          "text": [
            "{'error': 'unknown error', 'warnings': ['There was an inference error: unknown error: can only concatenate str (not \"dict\") to str']}\n"
          ]
        }
      ]
    },
    {
      "cell_type": "code",
      "source": [],
      "metadata": {
        "id": "uwXquj8aySSJ"
      },
      "execution_count": null,
      "outputs": []
    }
  ]
}